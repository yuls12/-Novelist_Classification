{
 "cells": [
  {
   "cell_type": "code",
   "execution_count": 1,
   "id": "perceived-struggle",
   "metadata": {
    "ExecuteTime": {
     "end_time": "2021-04-28T08:34:03.149038Z",
     "start_time": "2021-04-28T08:34:01.096820Z"
    }
   },
   "outputs": [],
   "source": [
    "import pandas as pd\n",
    "import warnings \n",
    "warnings.filterwarnings(action='ignore')\n",
    "import numpy as np\n",
    "import re\n",
    "\n",
    "import matplotlib.pyplot as plt\n",
    "\n",
    "import seaborn as sns\n"
   ]
  },
  {
   "cell_type": "code",
   "execution_count": 9,
   "id": "confirmed-basketball",
   "metadata": {
    "ExecuteTime": {
     "end_time": "2021-04-28T08:34:54.402688Z",
     "start_time": "2021-04-28T08:34:53.288728Z"
    }
   },
   "outputs": [],
   "source": [
    "train = pd.read_csv('new_train.csv', encoding = 'utf-8')\n",
    "test = pd.read_csv('new_test.csv', encoding = 'utf-8')\n",
    "sample_submission = pd.read_csv('new_sample_submission.csv', encoding = 'utf-8')\n",
    "\n",
    "train_old = pd.read_csv('train.csv', encoding = 'utf-8')\n",
    "test_old = pd.read_csv('test_x.csv', encoding = 'utf-8')"
   ]
  },
  {
   "cell_type": "code",
   "execution_count": 22,
   "id": "divided-sustainability",
   "metadata": {
    "ExecuteTime": {
     "end_time": "2021-04-28T08:39:17.313922Z",
     "start_time": "2021-04-28T08:39:17.270997Z"
    }
   },
   "outputs": [
    {
     "data": {
      "text/html": [
       "<div>\n",
       "<style scoped>\n",
       "    .dataframe tbody tr th:only-of-type {\n",
       "        vertical-align: middle;\n",
       "    }\n",
       "\n",
       "    .dataframe tbody tr th {\n",
       "        vertical-align: top;\n",
       "    }\n",
       "\n",
       "    .dataframe thead th {\n",
       "        text-align: right;\n",
       "    }\n",
       "</style>\n",
       "<table border=\"1\" class=\"dataframe\">\n",
       "  <thead>\n",
       "    <tr style=\"text-align: right;\">\n",
       "      <th></th>\n",
       "      <th>index</th>\n",
       "      <th>text</th>\n",
       "    </tr>\n",
       "    <tr>\n",
       "      <th>author</th>\n",
       "      <th></th>\n",
       "      <th></th>\n",
       "    </tr>\n",
       "  </thead>\n",
       "  <tbody>\n",
       "    <tr>\n",
       "      <th>0</th>\n",
       "      <td>13235</td>\n",
       "      <td>13235</td>\n",
       "    </tr>\n",
       "    <tr>\n",
       "      <th>1</th>\n",
       "      <td>7222</td>\n",
       "      <td>7222</td>\n",
       "    </tr>\n",
       "    <tr>\n",
       "      <th>2</th>\n",
       "      <td>11554</td>\n",
       "      <td>11554</td>\n",
       "    </tr>\n",
       "    <tr>\n",
       "      <th>3</th>\n",
       "      <td>15063</td>\n",
       "      <td>15063</td>\n",
       "    </tr>\n",
       "    <tr>\n",
       "      <th>4</th>\n",
       "      <td>7805</td>\n",
       "      <td>7805</td>\n",
       "    </tr>\n",
       "    <tr>\n",
       "      <th>5</th>\n",
       "      <td>7307</td>\n",
       "      <td>7307</td>\n",
       "    </tr>\n",
       "    <tr>\n",
       "      <th>6</th>\n",
       "      <td>8051</td>\n",
       "      <td>8051</td>\n",
       "    </tr>\n",
       "    <tr>\n",
       "      <th>7</th>\n",
       "      <td>12983</td>\n",
       "      <td>12983</td>\n",
       "    </tr>\n",
       "  </tbody>\n",
       "</table>\n",
       "</div>"
      ],
      "text/plain": [
       "        index   text\n",
       "author              \n",
       "0       13235  13235\n",
       "1        7222   7222\n",
       "2       11554  11554\n",
       "3       15063  15063\n",
       "4        7805   7805\n",
       "5        7307   7307\n",
       "6        8051   8051\n",
       "7       12983  12983"
      ]
     },
     "execution_count": 22,
     "metadata": {},
     "output_type": "execute_result"
    }
   ],
   "source": [
    "train.groupby('author').count()"
   ]
  },
  {
   "cell_type": "code",
   "execution_count": null,
   "id": "formed-timer",
   "metadata": {},
   "outputs": [],
   "source": []
  },
  {
   "cell_type": "code",
   "execution_count": 18,
   "id": "animal-halloween",
   "metadata": {
    "ExecuteTime": {
     "end_time": "2021-04-28T08:38:18.739187Z",
     "start_time": "2021-04-28T08:38:18.721235Z"
    }
   },
   "outputs": [
    {
     "data": {
      "text/html": [
       "<div>\n",
       "<style scoped>\n",
       "    .dataframe tbody tr th:only-of-type {\n",
       "        vertical-align: middle;\n",
       "    }\n",
       "\n",
       "    .dataframe tbody tr th {\n",
       "        vertical-align: top;\n",
       "    }\n",
       "\n",
       "    .dataframe thead th {\n",
       "        text-align: right;\n",
       "    }\n",
       "</style>\n",
       "<table border=\"1\" class=\"dataframe\">\n",
       "  <thead>\n",
       "    <tr style=\"text-align: right;\">\n",
       "      <th></th>\n",
       "      <th>index</th>\n",
       "      <th>text</th>\n",
       "      <th>author</th>\n",
       "    </tr>\n",
       "  </thead>\n",
       "  <tbody>\n",
       "    <tr>\n",
       "      <th>0</th>\n",
       "      <td>0</td>\n",
       "      <td>It is hard to forget repulsive things. I remem...</td>\n",
       "      <td>6</td>\n",
       "    </tr>\n",
       "    <tr>\n",
       "      <th>1</th>\n",
       "      <td>1</td>\n",
       "      <td>It would be tedious if given in the beadle’s w...</td>\n",
       "      <td>7</td>\n",
       "    </tr>\n",
       "    <tr>\n",
       "      <th>2</th>\n",
       "      <td>2</td>\n",
       "      <td>“Very good. Shall we argue about it here in p...</td>\n",
       "      <td>2</td>\n",
       "    </tr>\n",
       "    <tr>\n",
       "      <th>3</th>\n",
       "      <td>3</td>\n",
       "      <td>“What! and I as high as a tree and as big as a...</td>\n",
       "      <td>6</td>\n",
       "    </tr>\n",
       "    <tr>\n",
       "      <th>4</th>\n",
       "      <td>4</td>\n",
       "      <td>\"Isn't it enough, Vanya?\" she cried, seeing hi...</td>\n",
       "      <td>3</td>\n",
       "    </tr>\n",
       "    <tr>\n",
       "      <th>...</th>\n",
       "      <td>...</td>\n",
       "      <td>...</td>\n",
       "      <td>...</td>\n",
       "    </tr>\n",
       "    <tr>\n",
       "      <th>83215</th>\n",
       "      <td>83215</td>\n",
       "      <td>What with the birthday visitors, and what with...</td>\n",
       "      <td>7</td>\n",
       "    </tr>\n",
       "    <tr>\n",
       "      <th>83216</th>\n",
       "      <td>83216</td>\n",
       "      <td>It was an old rickety door and gave at once be...</td>\n",
       "      <td>2</td>\n",
       "    </tr>\n",
       "    <tr>\n",
       "      <th>83217</th>\n",
       "      <td>83217</td>\n",
       "      <td>“Well then you can go to the devil,” said odin...</td>\n",
       "      <td>3</td>\n",
       "    </tr>\n",
       "    <tr>\n",
       "      <th>83218</th>\n",
       "      <td>83218</td>\n",
       "      <td>“Don’t know?”</td>\n",
       "      <td>7</td>\n",
       "    </tr>\n",
       "    <tr>\n",
       "      <th>83219</th>\n",
       "      <td>83219</td>\n",
       "      <td>“Not go to town!” cried Mrs. Palmer, with a la...</td>\n",
       "      <td>5</td>\n",
       "    </tr>\n",
       "  </tbody>\n",
       "</table>\n",
       "<p>83220 rows × 3 columns</p>\n",
       "</div>"
      ],
      "text/plain": [
       "       index                                               text  author\n",
       "0          0  It is hard to forget repulsive things. I remem...       6\n",
       "1          1  It would be tedious if given in the beadle’s w...       7\n",
       "2          2   “Very good. Shall we argue about it here in p...       2\n",
       "3          3  “What! and I as high as a tree and as big as a...       6\n",
       "4          4  \"Isn't it enough, Vanya?\" she cried, seeing hi...       3\n",
       "...      ...                                                ...     ...\n",
       "83215  83215  What with the birthday visitors, and what with...       7\n",
       "83216  83216  It was an old rickety door and gave at once be...       2\n",
       "83217  83217  “Well then you can go to the devil,” said odin...       3\n",
       "83218  83218                                      “Don’t know?”       7\n",
       "83219  83219  “Not go to town!” cried Mrs. Palmer, with a la...       5\n",
       "\n",
       "[83220 rows x 3 columns]"
      ]
     },
     "execution_count": 18,
     "metadata": {},
     "output_type": "execute_result"
    }
   ],
   "source": [
    "#train 데이터 살펴보기\n",
    "train\n",
    "train.rename(columns={'Unnamed: 0':'index'}, inplace = True)\n",
    "train"
   ]
  },
  {
   "cell_type": "code",
   "execution_count": 4,
   "id": "auburn-whole",
   "metadata": {
    "ExecuteTime": {
     "end_time": "2021-04-28T08:34:10.744732Z",
     "start_time": "2021-04-28T08:34:10.719787Z"
    }
   },
   "outputs": [
    {
     "data": {
      "text/html": [
       "<div>\n",
       "<style scoped>\n",
       "    .dataframe tbody tr th:only-of-type {\n",
       "        vertical-align: middle;\n",
       "    }\n",
       "\n",
       "    .dataframe tbody tr th {\n",
       "        vertical-align: top;\n",
       "    }\n",
       "\n",
       "    .dataframe thead th {\n",
       "        text-align: right;\n",
       "    }\n",
       "</style>\n",
       "<table border=\"1\" class=\"dataframe\">\n",
       "  <thead>\n",
       "    <tr style=\"text-align: right;\">\n",
       "      <th></th>\n",
       "      <th>index</th>\n",
       "      <th>text</th>\n",
       "    </tr>\n",
       "  </thead>\n",
       "  <tbody>\n",
       "    <tr>\n",
       "      <th>0</th>\n",
       "      <td>0</td>\n",
       "      <td>About thirty years ago Miss Maria Ward, of Hun...</td>\n",
       "    </tr>\n",
       "    <tr>\n",
       "      <th>1</th>\n",
       "      <td>1</td>\n",
       "      <td>Their homes were so distant, and the circles i...</td>\n",
       "    </tr>\n",
       "    <tr>\n",
       "      <th>2</th>\n",
       "      <td>2</td>\n",
       "      <td>The letter was not unproductive. It re-establi...</td>\n",
       "    </tr>\n",
       "    <tr>\n",
       "      <th>3</th>\n",
       "      <td>3</td>\n",
       "      <td>Such were its immediate effects, and within a ...</td>\n",
       "    </tr>\n",
       "    <tr>\n",
       "      <th>4</th>\n",
       "      <td>4</td>\n",
       "      <td>Sir Thomas could not give so instantaneous and...</td>\n",
       "    </tr>\n",
       "    <tr>\n",
       "      <th>...</th>\n",
       "      <td>...</td>\n",
       "      <td>...</td>\n",
       "    </tr>\n",
       "    <tr>\n",
       "      <th>27313</th>\n",
       "      <td>27313</td>\n",
       "      <td>At the end of another day or two, odin growing...</td>\n",
       "    </tr>\n",
       "    <tr>\n",
       "      <th>27314</th>\n",
       "      <td>27314</td>\n",
       "      <td>All afternoon we sat together, mostly in silen...</td>\n",
       "    </tr>\n",
       "    <tr>\n",
       "      <th>27315</th>\n",
       "      <td>27315</td>\n",
       "      <td>odin, having carried his thanks to odin, proc...</td>\n",
       "    </tr>\n",
       "    <tr>\n",
       "      <th>27316</th>\n",
       "      <td>27316</td>\n",
       "      <td>Soon after this, upon odin's leaving the room,...</td>\n",
       "    </tr>\n",
       "    <tr>\n",
       "      <th>27317</th>\n",
       "      <td>27317</td>\n",
       "      <td>And all the worse for the doomed man, that the...</td>\n",
       "    </tr>\n",
       "  </tbody>\n",
       "</table>\n",
       "<p>27318 rows × 2 columns</p>\n",
       "</div>"
      ],
      "text/plain": [
       "       index                                               text\n",
       "0          0  About thirty years ago Miss Maria Ward, of Hun...\n",
       "1          1  Their homes were so distant, and the circles i...\n",
       "2          2  The letter was not unproductive. It re-establi...\n",
       "3          3  Such were its immediate effects, and within a ...\n",
       "4          4  Sir Thomas could not give so instantaneous and...\n",
       "...      ...                                                ...\n",
       "27313  27313  At the end of another day or two, odin growing...\n",
       "27314  27314  All afternoon we sat together, mostly in silen...\n",
       "27315  27315   odin, having carried his thanks to odin, proc...\n",
       "27316  27316  Soon after this, upon odin's leaving the room,...\n",
       "27317  27317  And all the worse for the doomed man, that the...\n",
       "\n",
       "[27318 rows x 2 columns]"
      ]
     },
     "execution_count": 4,
     "metadata": {},
     "output_type": "execute_result"
    }
   ],
   "source": [
    "#test 데이터 살펴보기\n",
    "test = test[['index', 'text']]\n",
    "test"
   ]
  },
  {
   "cell_type": "code",
   "execution_count": 5,
   "id": "judicial-arbor",
   "metadata": {
    "ExecuteTime": {
     "end_time": "2021-04-28T08:34:13.708564Z",
     "start_time": "2021-04-28T08:34:13.192560Z"
    }
   },
   "outputs": [],
   "source": [
    "#부호를 제거해주는 함수\n",
    "def alpha_num(text):\n",
    "    return re.sub(r'[^A-Za-z0-9 ]', '', text)\n",
    "\n",
    "train['text']=train['text'].apply(alpha_num)"
   ]
  },
  {
   "cell_type": "code",
   "execution_count": null,
   "id": "literary-gnome",
   "metadata": {},
   "outputs": [],
   "source": []
  },
  {
   "cell_type": "code",
   "execution_count": 6,
   "id": "growing-shock",
   "metadata": {
    "ExecuteTime": {
     "end_time": "2021-04-28T08:34:17.285447Z",
     "start_time": "2021-04-28T08:34:17.272421Z"
    }
   },
   "outputs": [],
   "source": [
    "# 불용어 제거해주는 함수\n",
    "def remove_stopwords(text):\n",
    "    final_text = []\n",
    "    for i in text.split():\n",
    "        if i.strip().lower() not in base_stopwords:\n",
    "            final_text.append(i.strip())\n",
    "    return \" \".join(final_text)\n",
    "\n",
    "# 불용어\n",
    "base_stopwords = [ \"a\", \"about\", \"above\", \"after\", \"again\", \"against\", \"all\", \"am\", \"an\", \"and\", \"any\", \"are\", \"as\", \n",
    "             \"at\", \"be\", \"because\", \"been\", \"before\", \"being\", \"below\", \"between\", \"both\", \"but\", \"by\", \"could\", \n",
    "             \"did\", \"do\", \"does\", \"doing\", \"down\", \"during\", \"each\", \"few\", \"for\", \"from\", \"further\", \"had\", \"has\", \n",
    "             \"have\", \"having\", \"he\", \"he'd\", \"he'll\", \"he's\", \"her\", \"here\", \"here's\", \"hers\", \"herself\", \"him\", \"himself\", \n",
    "             \"his\", \"how\", \"how's\", \"i\", \"i'd\", \"i'll\", \"i'm\", \"i've\", \"if\", \"in\", \"into\", \"is\", \"it\", \"it's\", \"its\", \"itself\", \n",
    "             \"let's\", \"me\", \"more\", \"most\", \"my\", \"myself\", \"nor\", \"of\", \"on\", \"once\", \"only\", \"or\", \"other\", \"ought\", \"our\", \"ours\", \n",
    "             \"ourselves\", \"out\", \"over\", \"own\", \"same\", \"she\", \"she'd\", \"she'll\", \"she's\", \"should\", \"so\", \"some\", \"such\", \"than\", \"that\", \n",
    "             \"that's\", \"the\", \"their\", \"theirs\", \"them\", \"themselves\", \"then\", \"there\", \"there's\", \"these\", \"they\", \"they'd\", \"they'll\", \n",
    "             \"they're\", \"they've\", \"this\", \"those\", \"through\", \"to\", \"too\", \"under\", \"until\", \"up\", \"very\", \"was\", \"we\", \"we'd\", \"we'll\", \n",
    "             \"we're\", \"we've\", \"were\", \"what\", \"what's\", \"when\", \"when's\", \"where\", \"where's\", \"which\", \"while\", \"who\", \"who's\", \"whom\", \n",
    "             \"why\", \"why's\", \"with\", \"would\", \"you\", \"you'd\", \"you'll\", \"you're\", \"you've\", \"your\", \"yours\", \"yourself\", \"yourselves\" ]"
   ]
  },
  {
   "cell_type": "code",
   "execution_count": 7,
   "id": "white-enzyme",
   "metadata": {
    "ExecuteTime": {
     "end_time": "2021-04-28T08:34:30.846719Z",
     "start_time": "2021-04-28T08:34:18.792687Z"
    }
   },
   "outputs": [],
   "source": [
    "train['text'] = train['text'].str.lower()\n",
    "test['text'] = test['text'].str.lower()\n",
    "train['text'] = train['text'].apply(alpha_num).apply(remove_stopwords)\n",
    "test['text'] = test['text'].apply(alpha_num).apply(remove_stopwords)"
   ]
  },
  {
   "cell_type": "code",
   "execution_count": 8,
   "id": "pleasant-salmon",
   "metadata": {
    "ExecuteTime": {
     "end_time": "2021-04-28T08:34:31.703360Z",
     "start_time": "2021-04-28T08:34:30.896480Z"
    }
   },
   "outputs": [],
   "source": [
    "X_train = np.array([x for x in train['text']])\n",
    "X_test = np.array([x for x in test['text']])\n",
    "y_train = np.array([x for x in train['author']])"
   ]
  },
  {
   "cell_type": "markdown",
   "id": "understanding-amplifier",
   "metadata": {},
   "source": [
    "#### 작가별로 문장의 수 비교"
   ]
  },
  {
   "cell_type": "code",
   "execution_count": 23,
   "id": "fuzzy-depression",
   "metadata": {
    "ExecuteTime": {
     "end_time": "2021-04-28T08:49:46.254639Z",
     "start_time": "2021-04-28T08:49:46.121534Z"
    }
   },
   "outputs": [],
   "source": [
    "# 작가별 text 나누는 함수 정의\n",
    "author_0 = train.loc[train['author'] == 0, 'text']\n",
    "author_1 = train.loc[train['author'] == 1, 'text']\n",
    "author_2 = train.loc[train['author'] == 2, 'text']\n",
    "author_3 = train.loc[train['author'] == 3, 'text']\n",
    "author_4 = train.loc[train['author'] == 4, 'text']\n",
    "author_5 = train.loc[train['author'] == 5, 'text']\n",
    "author_6 = train.loc[train['author'] == 6, 'text']\n",
    "author_7 = train.loc[train['author'] == 7, 'text']\n",
    "\n",
    "# print(author_0.shape)\n",
    "# print(author_1.shape)\n",
    "# print(author_2.shape)\n",
    "# print(author_3.shape)\n",
    "# print(author_4.shape)\n",
    "# print(author_5.shape)\n",
    "# print(author_6.shape)\n",
    "# print(author_7.shape)\n"
   ]
  },
  {
   "cell_type": "code",
   "execution_count": 24,
   "id": "anticipated-canal",
   "metadata": {
    "ExecuteTime": {
     "end_time": "2021-04-28T08:49:49.585665Z",
     "start_time": "2021-04-28T08:49:49.294130Z"
    }
   },
   "outputs": [
    {
     "data": {
      "image/png": "[encoded data removed]",
      "text/plain": [
       "<Figure size 864x360 with 1 Axes>"
      ]
     },
     "metadata": {
      "needs_background": "light"
     },
     "output_type": "display_data"
    }
   ],
   "source": [
    "# 작가별 text길이 시각화\n",
    "sns.set_palette(\"Paired\")\n",
    "fig, axe = plt.subplots(ncols=1)\n",
    "fig.set_size_inches(12,5)\n",
    "sns.countplot(y_train,)\n",
    "plt.show()"
   ]
  },
  {
   "cell_type": "code",
   "execution_count": 25,
   "id": "electoral-present",
   "metadata": {
    "ExecuteTime": {
     "end_time": "2021-04-28T08:50:02.402125Z",
     "start_time": "2021-04-28T08:49:53.327475Z"
    }
   },
   "outputs": [],
   "source": [
    "# keras 문장 토큰화\n",
    "## text_to_word_sequence는 알파벳을 소문자로 바꾸고, Punctuation을 제거한다\n",
    "from tensorflow.keras.preprocessing.text import text_to_word_sequence\n",
    "\n",
    "\n",
    "# 시리즈를 리스트로, 리스트를 문자열로 바꾸는 함수 (text_to_word_sequence가 문자열만 입력값으로 받기 때문)\n",
    "def series_list_to_str(a):\n",
    "    a.to_list()\n",
    "    return \" \".join([str(_) for _ in a])\n",
    "\n",
    "\n",
    "str_author_0 = series_list_to_str(author_0)\n",
    "str_author_1 = series_list_to_str(author_1)\n",
    "str_author_2 = series_list_to_str(author_2)\n",
    "str_author_3 = series_list_to_str(author_3)\n",
    "str_author_4 = series_list_to_str(author_4)\n",
    "str_author_5 = series_list_to_str(author_5)\n",
    "str_author_6 = series_list_to_str(author_6)\n",
    "str_author_7 = series_list_to_str(author_7)\n"
   ]
  },
  {
   "cell_type": "code",
   "execution_count": 26,
   "id": "macro-rebel",
   "metadata": {
    "ExecuteTime": {
     "end_time": "2021-04-28T08:50:04.980624Z",
     "start_time": "2021-04-28T08:50:02.512997Z"
    }
   },
   "outputs": [],
   "source": [
    "# 문장을 단어로 바꿔주는 함수\n",
    "author_word_0 = text_to_word_sequence(str_author_0)\n",
    "author_word_1 = text_to_word_sequence(str_author_1)\n",
    "author_word_2 = text_to_word_sequence(str_author_2)\n",
    "author_word_3 = text_to_word_sequence(str_author_3)\n",
    "author_word_4 = text_to_word_sequence(str_author_4)\n",
    "author_word_5 = text_to_word_sequence(str_author_5)\n",
    "author_word_6 = text_to_word_sequence(str_author_6)\n",
    "author_word_7 = text_to_word_sequence(str_author_7)\n",
    "# print(author_word_0[:20])"
   ]
  },
  {
   "cell_type": "code",
   "execution_count": null,
   "id": "fiscal-baptist",
   "metadata": {},
   "outputs": [],
   "source": []
  },
  {
   "cell_type": "code",
   "execution_count": 27,
   "id": "virtual-technology",
   "metadata": {
    "ExecuteTime": {
     "end_time": "2021-04-28T08:50:05.944776Z",
     "start_time": "2021-04-28T08:50:05.931878Z"
    }
   },
   "outputs": [],
   "source": [
    "from tensorflow.keras.preprocessing.text import Tokenizer"
   ]
  },
  {
   "cell_type": "code",
   "execution_count": 28,
   "id": "primary-vienna",
   "metadata": {
    "ExecuteTime": {
     "end_time": "2021-04-28T08:50:09.270214Z",
     "start_time": "2021-04-28T08:50:06.883714Z"
    }
   },
   "outputs": [],
   "source": [
    "tokenizer = Tokenizer()\n",
    "\n",
    "# fit_on_texts 적용 함수\n",
    "# fit_on_texts()는 입력한 텍스트로부터 단어 빈도수가 높은 순으로 낮은 정수 인덱스를 부여\n",
    "\n",
    "\n",
    "def fitontexts(words):\n",
    "    tokenizer = Tokenizer()\n",
    "    tokenizer.fit_on_texts([words])\n",
    "    return tokenizer.word_index\n",
    "\n",
    "\n",
    "# 이 과정으로 작가별 빈도수가 높은 단어를 구할 수 있음.\n",
    "author0_index = fitontexts(author_word_0)\n",
    "author1_index = fitontexts(author_word_1)\n",
    "author2_index = fitontexts(author_word_2)\n",
    "author3_index = fitontexts(author_word_3)\n",
    "author4_index = fitontexts(author_word_4)\n",
    "author5_index = fitontexts(author_word_5)\n",
    "author6_index = fitontexts(author_word_6)\n",
    "author7_index = fitontexts(author_word_7)\n",
    "\n",
    "\n",
    "\n",
    "# print(author0_index)\n",
    "# print(author1_index)\n",
    "# print(author2_index)\n",
    "# print(author3_index)\n",
    "# print(author4_index)\n",
    "# print(author5_index)\n",
    "# print(author6_index)\n",
    "# print(author7_index)"
   ]
  },
  {
   "cell_type": "code",
   "execution_count": 37,
   "id": "social-representation",
   "metadata": {
    "ExecuteTime": {
     "end_time": "2021-04-28T08:55:24.672958Z",
     "start_time": "2021-04-28T08:55:18.252401Z"
    }
   },
   "outputs": [
    {
     "data": {
      "image/png": "[encoded data removed]",
      "text/plain": [
       "<Figure size 1224x576 with 8 Axes>"
      ]
     },
     "metadata": {
      "needs_background": "light"
     },
     "output_type": "display_data"
    }
   ],
   "source": [
    "# 상위 30개 많이 쓰인 단어\n",
    "import seaborn as sns\n",
    "from collections import Counter\n",
    "\n",
    "\n",
    "def plot_top_non_stopwords_barchart(text):\n",
    "\n",
    "    new = text.str.split()\n",
    "    new = new.values.tolist()\n",
    "    corpus = [word for i in new for word in i]\n",
    "\n",
    "    counter = Counter(corpus)\n",
    "    most = counter.most_common()\n",
    "    x, y = [], []\n",
    "    for word, count in most[:30]:\n",
    "        x.append(word)\n",
    "        y.append(count)\n",
    "    return x, y\n",
    "\n",
    "#     sns.barplot(x=y, y=x)\n",
    "\n",
    "fig = plt.figure(figsize=(17, 8))  # rows*cols 행렬의 i번째 subplot 생성\n",
    "rows = 2\n",
    "cols = 4\n",
    "\n",
    "\n",
    "for i in range(8):\n",
    "    x, y = plot_top_non_stopwords_barchart(\n",
    "        train[train['author'] == i]['text'])\n",
    "    ax = fig.add_subplot(rows, cols, i + 1)\n",
    "    ax.set_title(i)\n",
    "    sns.barplot(x=y, y=x)\n",
    "    plt.tight_layout()"
   ]
  },
  {
   "cell_type": "code",
   "execution_count": 34,
   "id": "continued-promotion",
   "metadata": {
    "ExecuteTime": {
     "end_time": "2021-04-28T08:53:55.478800Z",
     "start_time": "2021-04-28T08:53:52.094540Z"
    }
   },
   "outputs": [
    {
     "data": {
      "image/png": "[encoded data removed]",
      "text/plain": [
       "<Figure size 1224x576 with 8 Axes>"
      ]
     },
     "metadata": {
      "needs_background": "light"
     },
     "output_type": "display_data"
    }
   ],
   "source": [
    "# 작가별 많이 쓴 단어 상위 10개\n",
    "fig = plt.figure(figsize=(17, 8))  # rows*cols 행렬의 i번째 subplot 생성\n",
    "rows = 2\n",
    "cols = 4\n",
    "\n",
    "\n",
    "def plot_top_non_stopwords_barchart2(text):\n",
    "\n",
    "    new = text.str.split()\n",
    "    new = new.values.tolist()\n",
    "    corpus = [word for i in new for word in i]\n",
    "\n",
    "    counter = Counter(corpus)\n",
    "    most = counter.most_common()\n",
    "    x, y = [], []\n",
    "    for word, count in most[:10]:\n",
    "        x.append(word)\n",
    "        y.append(count)\n",
    "    return x, y\n",
    "\n",
    "\n",
    "for i in range(8):\n",
    "    x, y = plot_top_non_stopwords_barchart2(\n",
    "        train[train['author'] == i]['text'])\n",
    "    ax = fig.add_subplot(rows, cols, i + 1)\n",
    "    ax.set_title(i)\n",
    "    sns.barplot(x=y, y=x)\n",
    "    plt.tight_layout()"
   ]
  },
  {
   "cell_type": "code",
   "execution_count": null,
   "id": "uniform-rover",
   "metadata": {},
   "outputs": [],
   "source": []
  },
  {
   "cell_type": "markdown",
   "id": "worldwide-compound",
   "metadata": {},
   "source": [
    "#### n-gram"
   ]
  },
  {
   "cell_type": "code",
   "execution_count": null,
   "id": "intellectual-economics",
   "metadata": {
    "ExecuteTime": {
     "end_time": "2021-04-27T11:05:01.871098Z",
     "start_time": "2021-04-27T11:04:47.723940Z"
    }
   },
   "outputs": [],
   "source": [
    "from nltk.util import ngrams\n",
    "from sklearn.feature_extraction.text import CountVectorizer\n",
    "from collections import  Counter\n",
    "\n",
    "def plot_top_ngrams_barchart(text, n=2):\n",
    "    stop=set(base_stopwords)\n",
    "\n",
    "    new= text.str.split()\n",
    "    new=new.values.tolist()\n",
    "    corpus=[word for i in new for word in i]\n",
    "\n",
    "    def _get_top_ngram(corpus, n=None):\n",
    "        vec = CountVectorizer(ngram_range=(n, n)).fit(corpus)\n",
    "        bag_of_words = vec.transform(corpus)\n",
    "        sum_words = bag_of_words.sum(axis=0) \n",
    "        words_freq = [(word, sum_words[0, idx]) \n",
    "                      for word, idx in vec.vocabulary_.items()]\n",
    "        words_freq =sorted(words_freq, key = lambda x: x[1], reverse=True)\n",
    "        return words_freq[:10]\n",
    "\n",
    "    top_n_bigrams=_get_top_ngram(text,n)[:10]\n",
    "    x,y=map(list,zip(*top_n_bigrams))\n",
    "    sns.barplot(x=y,y=x)\n",
    "\n",
    "plot_top_ngrams_barchart(train['text'], n=3)    "
   ]
  },
  {
   "cell_type": "code",
   "execution_count": null,
   "id": "verified-specification",
   "metadata": {
    "ExecuteTime": {
     "end_time": "2021-04-27T11:07:55.946456Z",
     "start_time": "2021-04-27T11:07:42.541409Z"
    }
   },
   "outputs": [],
   "source": [
    "fig = plt.figure(figsize=(16,10)) # rows*cols 행렬의 i번째 subplot 생성\n",
    "rows = 2\n",
    "cols = 4\n",
    "\n",
    "def plot_top_ngrams_barchart2(text, n=2):\n",
    "    stop=set(base_stopwords)\n",
    "\n",
    "    new= text.str.split()\n",
    "    new=new.values.tolist()\n",
    "    corpus=[word for i in new for word in i]\n",
    "\n",
    "    def _get_top_ngram(corpus, n=None):\n",
    "        vec = CountVectorizer(ngram_range=(n, n)).fit(corpus)\n",
    "        bag_of_words = vec.transform(corpus)\n",
    "        sum_words = bag_of_words.sum(axis=0) \n",
    "        words_freq = [(word, sum_words[0, idx]) \n",
    "                      for word, idx in vec.vocabulary_.items()]\n",
    "        words_freq =sorted(words_freq, key = lambda x: x[1], reverse=True)\n",
    "        return words_freq[:10]\n",
    "\n",
    "    top_n_bigrams=_get_top_ngram(text,n)[:10]\n",
    "    x,y=map(list,zip(*top_n_bigrams))\n",
    "    \n",
    "    return x, y\n",
    "\n",
    "for i in range(8):\n",
    "    x,y = plot_top_ngrams_barchart2(train[train['author']==i]['text'], n=3)\n",
    "    ax = fig.add_subplot(rows, cols, i+1)\n",
    "    ax.set_title(i)\n",
    "    sns.barplot(x=y,y=x)"
   ]
  },
  {
   "cell_type": "markdown",
   "id": "delayed-tracker",
   "metadata": {},
   "source": [
    "#### Topic Modeling exploration with pyLDAvis"
   ]
  },
  {
   "cell_type": "code",
   "execution_count": null,
   "id": "optional-metallic",
   "metadata": {
    "ExecuteTime": {
     "end_time": "2021-04-27T11:42:05.049771Z",
     "start_time": "2021-04-27T11:42:05.031819Z"
    }
   },
   "outputs": [],
   "source": [
    "# With NLTK you can tokenize and lemmatize easily:\n",
    "\n",
    "import numpy as np\n",
    "import nltk\n",
    "from nltk.corpus import stopwords\n",
    "import gensim\n",
    "from nltk.stem import WordNetLemmatizer, PorterStemmer\n",
    "from nltk.tokenize import word_tokenize\n",
    "import pyLDAvis.gensim\n",
    "\n",
    "NUM_TOPICS = 8\n",
    "\n",
    "\n",
    "def get_lda_objects(text):\n",
    "    nltk.download('stopwords')\n",
    "    stop = set(base_stopwords)\n",
    "\n",
    "    def _preprocess_text(text):\n",
    "        corpus = []\n",
    "        stem = PorterStemmer()\n",
    "        lem = WordNetLemmatizer()\n",
    "        for news in text:\n",
    "            words = [w for w in word_tokenize(news) if (w not in stop)]\n",
    "\n",
    "            words = [lem.lemmatize(w) for w in words if len(w) > 2]\n",
    "\n",
    "            corpus.append(words)\n",
    "        return corpus\n",
    "\n",
    "    corpus = _preprocess_text(text)\n",
    "\n",
    "    dic = gensim.corpora.Dictionary(corpus)\n",
    "    bow_corpus = [dic.doc2bow(doc) for doc in corpus]\n",
    "\n",
    "    lda_model = gensim.models.LdaMulticore(bow_corpus,\n",
    "                                           num_topics=NUM_TOPICS,\n",
    "                                           id2word=dic,\n",
    "                                           passes=10,\n",
    "                                           workers=2)\n",
    "\n",
    "    return lda_model, bow_corpus, dic\n",
    "\n",
    "\n",
    "def plot_lda_vis(lda_model, bow_corpus, dic):\n",
    "    pyLDAvis.enable_notebook()\n",
    "    vis = pyLDAvis.gensim.prepare(lda_model, bow_corpus, dic)\n",
    "    return vis"
   ]
  },
  {
   "cell_type": "code",
   "execution_count": null,
   "id": "cordless-reggae",
   "metadata": {
    "ExecuteTime": {
     "end_time": "2021-04-27T11:40:10.150507Z",
     "start_time": "2021-04-27T11:36:53.651103Z"
    }
   },
   "outputs": [],
   "source": [
    "lda_model, bow_corpus, dic = get_lda_objects(train['text'])"
   ]
  },
  {
   "cell_type": "code",
   "execution_count": null,
   "id": "wooden-acceptance",
   "metadata": {
    "ExecuteTime": {
     "end_time": "2021-04-27T11:40:26.640719Z",
     "start_time": "2021-04-27T11:40:26.619775Z"
    }
   },
   "outputs": [],
   "source": [
    "lda_model.show_topics()"
   ]
  },
  {
   "cell_type": "code",
   "execution_count": null,
   "id": "little-victorian",
   "metadata": {
    "ExecuteTime": {
     "end_time": "2021-04-27T11:42:48.749029Z",
     "start_time": "2021-04-27T11:42:13.899301Z"
    }
   },
   "outputs": [],
   "source": [
    "plot_lda_vis(lda_model, bow_corpus, dic)"
   ]
  },
  {
   "cell_type": "code",
   "execution_count": null,
   "id": "democratic-moldova",
   "metadata": {},
   "outputs": [],
   "source": []
  },
  {
   "cell_type": "markdown",
   "id": "quantitative-membrane",
   "metadata": {},
   "source": [
    "##### test data LDA"
   ]
  },
  {
   "cell_type": "code",
   "execution_count": null,
   "id": "rising-aquatic",
   "metadata": {
    "ExecuteTime": {
     "end_time": "2021-04-27T11:44:31.867195Z",
     "start_time": "2021-04-27T11:42:54.349775Z"
    }
   },
   "outputs": [],
   "source": [
    "lda_model, bow_corpus, dic = get_lda_objects(test['text'])"
   ]
  },
  {
   "cell_type": "code",
   "execution_count": null,
   "id": "prostate-clear",
   "metadata": {
    "ExecuteTime": {
     "end_time": "2021-04-27T11:45:17.551436Z",
     "start_time": "2021-04-27T11:45:06.289969Z"
    }
   },
   "outputs": [],
   "source": [
    "plot_lda_vis(lda_model, bow_corpus, dic)"
   ]
  },
  {
   "cell_type": "code",
   "execution_count": null,
   "id": "animal-membership",
   "metadata": {},
   "outputs": [],
   "source": []
  },
  {
   "cell_type": "markdown",
   "id": "genetic-stamp",
   "metadata": {},
   "source": [
    "#### Sentiment analysis (감정분석?)"
   ]
  },
  {
   "cell_type": "code",
   "execution_count": null,
   "id": "integral-paste",
   "metadata": {
    "ExecuteTime": {
     "end_time": "2021-04-27T11:45:55.446208Z",
     "start_time": "2021-04-27T11:45:55.362672Z"
    }
   },
   "outputs": [],
   "source": [
    "from textblob import TextBlob\n",
    "    \n",
    "def plot_polarity_histogram(text):\n",
    "    \n",
    "    def _polarity(text):\n",
    "        return TextBlob(text).sentiment.polarity\n",
    "        \n",
    "    polarity_score = text.apply(lambda x : _polarity(x))\n",
    "    return polarity_score"
   ]
  },
  {
   "cell_type": "code",
   "execution_count": null,
   "id": "victorian-david",
   "metadata": {
    "ExecuteTime": {
     "end_time": "2021-04-27T11:46:37.804197Z",
     "start_time": "2021-04-27T11:46:18.450258Z"
    }
   },
   "outputs": [],
   "source": [
    "\n",
    "fig = plt.figure(figsize=(10,5)) # rows*cols 행렬의 i번째 subplot 생성\n",
    "rows = 2\n",
    "cols = 4\n",
    "\n",
    "for i in range(8):\n",
    "    polarity_score = plot_polarity_histogram(train[train['author']==i]['text'])\n",
    "    ax = fig.add_subplot(rows, cols, i+1)\n",
    "    ax.set_title(i)\n",
    "    polarity_score.hist()"
   ]
  },
  {
   "cell_type": "code",
   "execution_count": null,
   "id": "initial-device",
   "metadata": {},
   "outputs": [],
   "source": []
  },
  {
   "cell_type": "markdown",
   "id": "sublime-talent",
   "metadata": {},
   "source": [
    "##### test data polarity"
   ]
  },
  {
   "cell_type": "code",
   "execution_count": null,
   "id": "equipped-brunswick",
   "metadata": {
    "ExecuteTime": {
     "end_time": "2021-04-27T11:47:19.814212Z",
     "start_time": "2021-04-27T11:47:11.266104Z"
    },
    "scrolled": true
   },
   "outputs": [],
   "source": [
    "polarity_score = plot_polarity_histogram(test['text'])\n",
    "polarity_score.hist()"
   ]
  },
  {
   "cell_type": "code",
   "execution_count": null,
   "id": "seasonal-fever",
   "metadata": {},
   "outputs": [],
   "source": []
  },
  {
   "cell_type": "code",
   "execution_count": null,
   "id": "literary-summary",
   "metadata": {
    "ExecuteTime": {
     "end_time": "2021-04-27T11:47:24.096609Z",
     "start_time": "2021-04-27T11:47:24.081657Z"
    }
   },
   "outputs": [],
   "source": [
    "def sentiment_vader(text, sid):\n",
    "    ss = sid.polarity_scores(text)\n",
    "    ss.pop('compound')\n",
    "    return max(ss, key=ss.get)\n",
    "\n",
    "def sentiment_textblob(text):\n",
    "        x = TextBlob(text).sentiment.polarity\n",
    "        \n",
    "        if x<0:\n",
    "            return 'neg'\n",
    "        elif x==0:\n",
    "            return 'neu'\n",
    "        else:\n",
    "            return 'pos'\n",
    "\n",
    "def plot_sentiment_barchart(text, method='TextBlob'):\n",
    "    if method == 'TextBlob':\n",
    "        sentiment = text.map(lambda x: sentiment_textblob(x))\n",
    "    elif method == 'Vader':\n",
    "        nltk.download('vader_lexicon')\n",
    "        sid = SentimentIntensityAnalyzer()\n",
    "        sentiment = text.map(lambda x: sentiment_vader(x, sid=sid))\n",
    "    else:\n",
    "        raise ValueError('Textblob or Vader')\n",
    "    \n",
    "    return sentiment"
   ]
  },
  {
   "cell_type": "code",
   "execution_count": null,
   "id": "independent-square",
   "metadata": {
    "ExecuteTime": {
     "end_time": "2021-04-27T11:47:53.524546Z",
     "start_time": "2021-04-27T11:47:32.362293Z"
    }
   },
   "outputs": [],
   "source": [
    "fig = plt.figure(figsize=(10,5)) # rows*cols 행렬의 i번째 subplot 생성\n",
    "rows = 2\n",
    "cols = 4\n",
    "\n",
    "for i in range(8):\n",
    "    sentiment = plot_sentiment_barchart(train[train['author']==i]['text'])\n",
    "    ax = fig.add_subplot(rows, cols, i+1)\n",
    "    #plt.bar(sentiment.value_counts().index, sentiment.value_counts())\n",
    "    ax.set_title(i)\n",
    "    sns.barplot(sentiment.value_counts().index, sentiment.value_counts())"
   ]
  },
  {
   "cell_type": "code",
   "execution_count": null,
   "id": "dangerous-charleston",
   "metadata": {},
   "outputs": [],
   "source": []
  },
  {
   "cell_type": "markdown",
   "id": "danish-paint",
   "metadata": {},
   "source": [
    "##### test data sentiment"
   ]
  },
  {
   "cell_type": "code",
   "execution_count": null,
   "id": "mental-inside",
   "metadata": {
    "ExecuteTime": {
     "end_time": "2021-04-27T11:48:44.600828Z",
     "start_time": "2021-04-27T11:48:35.162179Z"
    }
   },
   "outputs": [],
   "source": [
    "sentiment = plot_sentiment_barchart(test['text'])\n",
    "sns.barplot(sentiment.value_counts().index, sentiment.value_counts())"
   ]
  },
  {
   "cell_type": "code",
   "execution_count": null,
   "id": "particular-apple",
   "metadata": {},
   "outputs": [],
   "source": []
  },
  {
   "cell_type": "markdown",
   "id": "built-memory",
   "metadata": {},
   "source": [
    "#### Named Entity Recognition (개체명인식 NER)"
   ]
  },
  {
   "cell_type": "code",
   "execution_count": null,
   "id": "productive-cleveland",
   "metadata": {
    "ExecuteTime": {
     "end_time": "2021-04-27T11:50:40.702344Z",
     "start_time": "2021-04-27T11:50:40.680402Z"
    }
   },
   "outputs": [],
   "source": [
    "import spacy\n",
    "from collections import  Counter\n",
    "import seaborn as sns\n",
    "\n",
    "def plot_named_entity_barchart(text):\n",
    "    nlp = spacy.load(\"en_core_web_sm\")\n",
    "    \n",
    "    def _get_ner(text):\n",
    "        doc=nlp(text)\n",
    "        return [X.label_ for X in doc.ents]\n",
    "    \n",
    "    ent=text.apply(lambda x : _get_ner(x))\n",
    "    ent=[x for sub in ent for x in sub]\n",
    "    counter=Counter(ent)\n",
    "    count=counter.most_common()\n",
    "    \n",
    "    x,y=map(list,zip(*count))\n",
    "    return x,y"
   ]
  },
  {
   "cell_type": "code",
   "execution_count": null,
   "id": "conscious-effect",
   "metadata": {
    "ExecuteTime": {
     "start_time": "2021-04-27T11:50:41.969Z"
    }
   },
   "outputs": [],
   "source": [
    "fig = plt.figure(figsize=(20,20)) # rows*cols 행렬의 i번째 subplot 생성\n",
    "rows = 2\n",
    "cols = 4\n",
    "\n",
    "for i in range(8):\n",
    "    x, y = plot_named_entity_barchart(train[train['author']==i]['text'])\n",
    "    ax = fig.add_subplot(rows, cols, i+1)\n",
    "    ax.set_title(i)\n",
    "    sns.barplot(x=y,y=x)"
   ]
  },
  {
   "cell_type": "code",
   "execution_count": null,
   "id": "regional-strike",
   "metadata": {},
   "outputs": [],
   "source": []
  },
  {
   "cell_type": "markdown",
   "id": "minus-wheat",
   "metadata": {},
   "source": [
    "#### 사람이름 분포"
   ]
  },
  {
   "cell_type": "code",
   "execution_count": null,
   "id": "nonprofit-wayne",
   "metadata": {
    "ExecuteTime": {
     "start_time": "2021-04-27T11:50:50.800Z"
    }
   },
   "outputs": [],
   "source": [
    "import spacy\n",
    "from collections import Counter\n",
    "import seaborn as sns\n",
    "\n",
    "\n",
    "def plot_most_common_named_entity_barchart(text, entity=\"PERSON\"):\n",
    "    nlp = spacy.load(\"en_core_web_sm\")\n",
    "\n",
    "    def _get_ner(text, ent):\n",
    "        doc = nlp(text)\n",
    "        return [X.text for X in doc.ents if X.label_ == ent]\n",
    "\n",
    "    entity_filtered = text.apply(lambda x: _get_ner(x, entity))\n",
    "    entity_filtered = [i for x in entity_filtered for i in x]\n",
    "\n",
    "    counter = Counter(entity_filtered)\n",
    "    x, y = map(list, zip(*counter.most_common(10)))\n",
    "    return x, y"
   ]
  },
  {
   "cell_type": "code",
   "execution_count": null,
   "id": "german-coupon",
   "metadata": {},
   "outputs": [],
   "source": [
    "fig = plt.figure(figsize=(20, 15))  # rows*cols 행렬의 i번째 subplot 생성\n",
    "rows = 2\n",
    "cols = 4\n",
    "\n",
    "for i in range(8):\n",
    "    x, y = plot_most_common_named_entity_barchart(\n",
    "        train[train['author'] == i]['text'], entity=\"PERSON\")\n",
    "    ax = fig.add_subplot(rows, cols, i + 1)\n",
    "    sns.barplot(y, x).set_title(i)"
   ]
  },
  {
   "cell_type": "code",
   "execution_count": null,
   "id": "armed-rider",
   "metadata": {},
   "outputs": [],
   "source": []
  },
  {
   "cell_type": "code",
   "execution_count": null,
   "id": "handy-arrow",
   "metadata": {},
   "outputs": [],
   "source": []
  }
 ],
 "metadata": {
  "kernelspec": {
   "display_name": "Python 3",
   "language": "python",
   "name": "python3"
  },
  "language_info": {
   "codemirror_mode": {
    "name": "ipython",
    "version": 3
   },
   "file_extension": ".py",
   "mimetype": "text/x-python",
   "name": "python",
   "nbconvert_exporter": "python",
   "pygments_lexer": "ipython3",
   "version": "3.7.1"
  },
  "toc": {
   "base_numbering": 1,
   "nav_menu": {},
   "number_sections": true,
   "sideBar": true,
   "skip_h1_title": false,
   "title_cell": "Table of Contents",
   "title_sidebar": "Contents",
   "toc_cell": false,
   "toc_position": {},
   "toc_section_display": true,
   "toc_window_display": false
  },
  "varInspector": {
   "cols": {
    "lenName": 16,
    "lenType": 16,
    "lenVar": 40
   },
   "kernels_config": {
    "python": {
     "delete_cmd_postfix": "",
     "delete_cmd_prefix": "del ",
     "library": "var_list.py",
     "varRefreshCmd": "print(var_dic_list())"
    },
    "r": {
     "delete_cmd_postfix": ") ",
     "delete_cmd_prefix": "rm(",
     "library": "var_list.r",
     "varRefreshCmd": "cat(var_dic_list()) "
    }
   },
   "types_to_exclude": [
    "module",
    "function",
    "builtin_function_or_method",
    "instance",
    "_Feature"
   ],
   "window_display": false
  }
 },
 "nbformat": 4,
 "nbformat_minor": 5
}
